{
 "cells": [
  {
   "cell_type": "code",
   "execution_count": 8,
   "metadata": {},
   "outputs": [
    {
     "name": "stdout",
     "output_type": "stream",
     "text": [
      "This software can encode or decode messages!\n"
     ]
    },
    {
     "name": "stdin",
     "output_type": "stream",
     "text": [
      "Type 1 for a Caesar Cipher, or 2 for a Vigenere Cipher: 1\n",
      "Type 1 for encoding, or 2 for decoding: 2\n",
      "Enter text to be encoded/decoded: uftu\n",
      "Enter the shift for your Caesar Cipher: 1\n"
     ]
    },
    {
     "name": "stdout",
     "output_type": "stream",
     "text": [
      "test\n"
     ]
    }
   ],
   "source": [
    "'''while True:\n",
    "    try:\n",
    "        name = input('Type in a name as input: ')\n",
    "        shift = int(input('Type in an integer: '))\n",
    "        break;\n",
    "    except ValueError:\n",
    "        print('That was not an integer. Try again.')'''\n",
    "\n",
    "print(\"This software can encode or decode messages!\")\n",
    "\n",
    "cypher_choice = int(input(\"Type 1 for a Caesar Cipher, or 2 for a Vigenere Cipher:\"))\n",
    "\n",
    "encode = int(input(\"Type 1 for encoding, or 2 for decoding:\"))\n",
    "\n",
    "text = input(\"Enter text to be encoded/decoded:\")\n",
    "\n",
    "if cypher_choice == 1 and encode == 1:\n",
    "    shift = int(input(\"Enter the shift for your Caesar Cipher:\"))\n",
    "    print(caesar_encode(text, shift))\n",
    "elif cypher_choice == 1 and encode == 2:\n",
    "    shift = int (input(\"Enter the shift for your Caesar Cipher:\"))\n",
    "    print(caesar_decode(text, shift))\n",
    "elif cypher_choice == 2 and encode == 1:\n",
    "    key = input(\"Enter the key for your Vigenere Cipher:\")\n",
    "    print(vigenere_encode(text, key))\n",
    "elif cypher_choice == 2 and encode == 2:\n",
    "    key = input(\"Enter the key for your Vigenere Cipher:\")\n",
    "    print(vigenere_decode(text, key))\n",
    "\n",
    "def caesar_encode(text, shift):\n",
    "    text = text.lower().replace(' ', '')\n",
    "\n",
    "    s = [c for c in text]\n",
    "    encoded = ''\n",
    "    for c in s:\n",
    "        #print(ord(c))\n",
    "        #c = chr( (ord(c) - 97 + shift) % 25 + 97 )\n",
    "        c = shift_letter(c, shift)\n",
    "        encoded+=c\n",
    "    return encoded\n",
    "def caesar_decode(text, shift):\n",
    "    return caesar_encode(text, shift * -1)\n",
    "def vigenere_encode(text, key):\n",
    "    text = text.lower().replace(' ', '')\n",
    "    key = key.lower().replace(' ', '')\n",
    "\n",
    "    encoded = ''\n",
    "    s = [ord(c) - 97 for c in key]\n",
    "    #print(s)\n",
    "\n",
    "    for n in range(len(text)):\n",
    "        shift = s[n % len(key)]\n",
    "\n",
    "        c = text[n:n+1]\n",
    "\n",
    "        c = shift_letter(c, shift)\n",
    "        #print('shifted ' + str(shift) + ' is ' + c)\n",
    "\n",
    "        encoded+=c\n",
    "    return encoded\n",
    "def vigenere_decode(text, key):\n",
    "    text = text.lower()\n",
    "    key = key.lower().replace(' ', '')\n",
    "\n",
    "    encoded = ''\n",
    "    s = [-1 * (ord(c) - 97) for c in key]\n",
    "\n",
    "    for n in range(len(text)):\n",
    "        shift = s[n % len(key)]\n",
    "        c = text[n:n+1]\n",
    "        c = shift_letter(c, shift)\n",
    "        encoded+=c\n",
    "    return encoded\n",
    "\n",
    "def shift_letter(letter, shift):\n",
    "    #print((ord(letter) - 97 + shift) % 26 + 97)\n",
    "    return chr( (ord(letter) - 97 + shift) % 26 + 97 )\n",
    "\n",
    "\n",
    "\n",
    "\n",
    "\n",
    "\n"
   ]
  },
  {
   "cell_type": "code",
   "execution_count": null,
   "metadata": {},
   "outputs": [],
   "source": []
  }
 ],
 "metadata": {
  "kernelspec": {
   "display_name": "Python 3",
   "language": "python",
   "name": "python3"
  },
  "language_info": {
   "codemirror_mode": {
    "name": "ipython",
    "version": 3
   },
   "file_extension": ".py",
   "mimetype": "text/x-python",
   "name": "python",
   "nbconvert_exporter": "python",
   "pygments_lexer": "ipython3",
   "version": "3.7.9"
  }
 },
 "nbformat": 4,
 "nbformat_minor": 4
}
